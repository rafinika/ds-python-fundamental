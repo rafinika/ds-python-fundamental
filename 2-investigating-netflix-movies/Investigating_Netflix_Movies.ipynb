{
  "nbformat": 4,
  "nbformat_minor": 0,
  "metadata": {
    "colab": {
      "provenance": [],
      "mount_file_id": "1k3TZW_DW5Yu5-rJrN16Jre96vC_pt38n",
      "authorship_tag": "ABX9TyNvqWiW5fPyz1qu0uihSj3Z",
      "include_colab_link": true
    },
    "kernelspec": {
      "name": "python3",
      "display_name": "Python 3"
    },
    "language_info": {
      "name": "python"
    }
  },
  "cells": [
    {
      "cell_type": "markdown",
      "metadata": {
        "id": "view-in-github",
        "colab_type": "text"
      },
      "source": [
        "<a href=\"https://colab.research.google.com/github/rafinika/ds-python-fundamental/blob/main/2-investigating-netflix-movies/Investigating_Netflix_Movies.ipynb\" target=\"_parent\"><img src=\"https://colab.research.google.com/assets/colab-badge.svg\" alt=\"Open In Colab\"/></a>"
      ]
    },
    {
      "cell_type": "markdown",
      "source": [
        "# Investigating Netflix Movies\n",
        "**Netflix**! What started in 1997 as a DVD rental service has since exploded into one of the largest entertainment and media companies.\n",
        "\n",
        "Given the large number of movies and series available on the platform, it is a perfect opportunity to flex your exploratory data analysis skills and dive into the entertainment industry.\n",
        "\n",
        "### Study Case:\n",
        "You work for a production company that specializes in nostalgic styles. You want to do some research on movies released in the 1990's. You'll delve into Netflix data and perform exploratory data analysis to better understand this awesome movie decade!\n",
        "\n",
        "You have been supplied with the dataset `netflix_data.csv`, along with the following table detailing the column names and descriptions. Feel free to experiment further after submitting!\n",
        "\n",
        "### The data\n",
        "#### **netflix_data.csv**\n",
        "| Column | Description |\n",
        "|--------|-------------|\n",
        "| `show_id` | The ID of the show |\n",
        "| `type` | Type of show |\n",
        "| `title` | Title of the show |\n",
        "| `director` | Director of the show |\n",
        "| `cast` | Cast of the show |\n",
        "| `country` | Country of origin |\n",
        "| `date_added` | Date added to Netflix |\n",
        "| `release_year` | Year of Netflix release |\n",
        "| `duration` | Duration of the show in minutes |\n",
        "| `description` | Description of the show |\n",
        "| `genre` | Show genre |\n",
        "\n",
        "\n",
        "### Task\n",
        "Perform exploratory data analysis on the `netflix_data.csv` data to understand more about movies from the 1990s decade.\n",
        "\n",
        "- What was the most frequent **movie** duration in the 1990s?\n",
        "\n",
        "- A movie is considered short if it is less than 90 minutes. Count the number of short action movies released in the 1990s and save this integer as `short_movie_count`."
      ],
      "metadata": {
        "id": "VzEM8uO3nmsA"
      }
    },
    {
      "cell_type": "code",
      "source": [
        "import pandas as pd\n",
        "import matplotlib.pyplot as plt\n",
        "\n",
        "# Read netflix_data.csv\n",
        "file_path = 'https://raw.githubusercontent.com/rafinika/ds-python-fundamental/refs/heads/main/2-investigating-netflix-movies/netflix_data.csv'\n",
        "netflix_df = pd.read_csv(file_path)\n",
        "print(netflix_df.head())"
      ],
      "metadata": {
        "colab": {
          "base_uri": "https://localhost:8080/"
        },
        "id": "OfsJhU8SmHsL",
        "outputId": "9e341e20-26b6-44fc-9d0f-c216c177772f"
      },
      "execution_count": 1,
      "outputs": [
        {
          "output_type": "stream",
          "name": "stdout",
          "text": [
            "  show_id     type  title           director  \\\n",
            "0      s2    Movie   7:19  Jorge Michel Grau   \n",
            "1      s3    Movie  23:59       Gilbert Chan   \n",
            "2      s4    Movie      9        Shane Acker   \n",
            "3      s5    Movie     21     Robert Luketic   \n",
            "4      s6  TV Show     46        Serdar Akar   \n",
            "\n",
            "                                                cast        country  \\\n",
            "0  Demián Bichir, Héctor Bonilla, Oscar Serrano, ...         Mexico   \n",
            "1  Tedd Chan, Stella Chung, Henley Hii, Lawrence ...      Singapore   \n",
            "2  Elijah Wood, John C. Reilly, Jennifer Connelly...  United States   \n",
            "3  Jim Sturgess, Kevin Spacey, Kate Bosworth, Aar...  United States   \n",
            "4  Erdal Beşikçioğlu, Yasemin Allen, Melis Birkan...         Turkey   \n",
            "\n",
            "          date_added  release_year  duration  \\\n",
            "0  December 23, 2016          2016        93   \n",
            "1  December 20, 2018          2011        78   \n",
            "2  November 16, 2017          2009        80   \n",
            "3    January 1, 2020          2008       123   \n",
            "4       July 1, 2017          2016         1   \n",
            "\n",
            "                                         description             genre  \n",
            "0  After a devastating earthquake hits Mexico Cit...            Dramas  \n",
            "1  When an army recruit is found dead, his fellow...     Horror Movies  \n",
            "2  In a postapocalyptic world, rag-doll robots hi...            Action  \n",
            "3  A brilliant group of students become card-coun...            Dramas  \n",
            "4  A genetics professor experiments with a treatm...  International TV  \n"
          ]
        }
      ]
    },
    {
      "cell_type": "code",
      "source": [
        "# Filter the data for movies released in 1990s\n",
        "movies_before_2000 = netflix_df[netflix_df['release_year'] < 2000]\n",
        "movies_90s = movies_before_2000[movies_before_2000['release_year'] >= 1990]"
      ],
      "metadata": {
        "id": "07flEgDao0-s"
      },
      "execution_count": 2,
      "outputs": []
    },
    {
      "cell_type": "code",
      "source": [
        "# The most frequent movie duration in 1990s\n",
        "plt.hist(movies_90s['duration'])\n",
        "plt.title('Distribution of 1990s Movie Durations')\n",
        "plt.xlabel('Duration (minutes)')\n",
        "plt.ylabel('Number of Movies')\n",
        "plt.show()"
      ],
      "metadata": {
        "colab": {
          "base_uri": "https://localhost:8080/",
          "height": 472
        },
        "id": "w6_cFcelpKNW",
        "outputId": "c7843054-0b77-4091-e905-64a821f51344"
      },
      "execution_count": 3,
      "outputs": [
        {
          "output_type": "display_data",
          "data": {
            "text/plain": [
              "<Figure size 640x480 with 1 Axes>"
            ],
            "image/png": "[encoded data removed]"
          },
          "metadata": {}
        }
      ]
    },
    {
      "cell_type": "code",
      "source": [
        "# Subsetting Action Genre Movies\n",
        "action_mov90s = movies_90s[movies_90s['genre'] == 'Action']\n",
        "\n",
        "short_movie_count = (action_mov90s['duration'] < 90).sum()\n",
        "print(f\"Number of short action movies in 1990s : {short_movie_count}\")"
      ],
      "metadata": {
        "colab": {
          "base_uri": "https://localhost:8080/"
        },
        "id": "KzdAG9OwpTeL",
        "outputId": "ebee9547-1715-4e5b-ac8d-238b6f2573fb"
      },
      "execution_count": 4,
      "outputs": [
        {
          "output_type": "stream",
          "name": "stdout",
          "text": [
            "Number of short action movies in 1990s : 7\n"
          ]
        }
      ]
    }
  ]
}