{
  "nbformat": 4,
  "nbformat_minor": 0,
  "metadata": {
    "colab": {
      "provenance": [],
      "mount_file_id": "1Vna6VbTWWnJQLAANsVlfqlF1xbrCvJah",
      "authorship_tag": "ABX9TyO26ekv0OWIQkbGQXd+5lQq",
      "include_colab_link": true
    },
    "kernelspec": {
      "name": "python3",
      "display_name": "Python 3"
    },
    "language_info": {
      "name": "python"
    }
  },
  "cells": [
    {
      "cell_type": "markdown",
      "metadata": {
        "id": "view-in-github",
        "colab_type": "text"
      },
      "source": [
        "<a href=\"https://colab.research.google.com/github/rafinika/ds-python-fundamental/blob/main/5-Data-Driven-Product-Management-Conducting-a-Market-Analysis/Data_Driven_Product_Management_Conducting_a_Market_Analysis.ipynb\" target=\"_parent\"><img src=\"https://colab.research.google.com/assets/colab-badge.svg\" alt=\"Open In Colab\"/></a>"
      ]
    },
    {
      "cell_type": "markdown",
      "source": [
        "## **Data-Driven Product Management: Conducting a Market Analysis**\n",
        "You are a product manager for a fitness studio and are interested in understanding the current demand for digital fitness classes. You plan to conduct a market analysis in Python to gauge demand and identify potential areas for growth of digital products and services.\n",
        "\n",
        "### The Data\n",
        "\n",
        "You are provided with a number of CSV files in the \"Files/data\" folder, which offer international and national-level data on Google Trends keyword searches related to fitness and related products.\n",
        "\n",
        "### workout.csv\n",
        "\n",
        "| Column     | Description              |\n",
        "|------------|--------------------------|\n",
        "| `'month'` | Month when the data was measured. |\n",
        "| `'workout_worldwide'` | Index representing the popularity of the keyword 'workout', on a scale of 0 to 100. |\n",
        "\n",
        "### three_keywords.csv\n",
        "\n",
        "| Column     | Description              |\n",
        "|------------|--------------------------|\n",
        "| `'month'` | Month when the data was measured. |\n",
        "| `'home_workout_worldwide'` | Index representing the popularity of the keyword 'home workout', on a scale of 0 to 100. |\n",
        "| `'gym_workout_worldwide'` | Index representing the popularity of the keyword 'gym workout', on a scale of 0 to 100. |\n",
        "| `'home_gym_worldwide'` | Index representing the popularity of the keyword 'home gym', on a scale of 0 to 100. |\n",
        "\n",
        "### workout_geo.csv\n",
        "\n",
        "| Column     | Description              |\n",
        "|------------|--------------------------|\n",
        "| `'country'` | Country where the data was measured. |\n",
        "| `'workout_2018_2023'` | Index representing the popularity of the keyword 'workout' during the 5 year period. |\n",
        "\n",
        "### three_keywords_geo.csv\n",
        "\n",
        "| Column     | Description              |\n",
        "|------------|--------------------------|\n",
        "| `'country'` | Country where the data was measured. |\n",
        "| `'home_workout_2018_2023'` | Index representing the popularity of the keyword 'home workout' during the 5 year period. |\n",
        "| `'gym_workout_2018_2023'` | Index representing the popularity of the keyword 'gym workout' during the 5 year period.  |\n",
        "| `'home_gym_2018_2023'` | Index representing the popularity of the keyword 'home gym' during the 5 year period. |\n",
        "\n",
        "\n",
        "## **Task**\n",
        "Help the fitness studio explore interest in workouts at a global and national level.\n",
        "\n",
        "1. When was the global search for 'workout' at its peak? Save the year of peak interest as a string named `year_str` in the format \"yyyy\".\n",
        "\n",
        "2. Of the keywords available, what was the most popular during the covid pandemic, and what is the most popular now? Save your answers as variables called `peak_covid` and `current` respectively.\n",
        "\n",
        "3. What country has the highest interest for workouts among the following: United States, Australia, or Japan? Save your answer as `top_country`.\n",
        "\n",
        "4. You'd be interested in expanding your virtual home workouts offering to either the Philippines or Malaysia. Which of the two countries has the highest interest in home workouts? Identify the country and save it as `home_workout_geo`."
      ],
      "metadata": {
        "id": "II490BPaHzrR"
      }
    },
    {
      "cell_type": "code",
      "execution_count": 16,
      "metadata": {
        "id": "5BcsdRMaHlvs",
        "colab": {
          "base_uri": "https://localhost:8080/"
        },
        "outputId": "73815bee-149a-40bd-dff1-d032fbe01e49"
      },
      "outputs": [
        {
          "output_type": "stream",
          "name": "stdout",
          "text": [
            "Answer 1. Peak interest for 'workout' was in 2020\n",
            "Answer 2a. Most popular keyword during the covid pandemic: home_workout_worldwide\n",
            "Answer 2b. Most popular keyword now: gym_workout_worldwide\n",
            "Answer 3. Country with highest interest for workout: United States\n",
            "Answer 4. Country with highest interest for home workout: Philippines\n"
          ]
        }
      ],
      "source": [
        "# Load necessary libraries\n",
        "import pandas as pd\n",
        "import matplotlib.pyplot as plt\n",
        "import seaborn as sns\n",
        "import numpy as np\n",
        "\n",
        "# Peak interest for workout\n",
        "workout = pd.read_csv('/content/drive/MyDrive/colab_notebooks/Data-Driven_Product_Management:_Conducting_a_Market_Analysis/workout.csv')\n",
        "max_interest = workout['workout_worldwide'].max()\n",
        "year_str = pd.to_datetime(workout.loc[workout['workout_worldwide'] == max_interest, 'month'].values[0]).strftime('%Y')\n",
        "print(f\"Answer 1. Peak interest for 'workout' was in {year_str}\")\n",
        "\n",
        "# Popular keyword during the covid pandemic and nowdays\n",
        "three_keywords = pd.read_csv('/content/drive/MyDrive/colab_notebooks/Data-Driven_Product_Management:_Conducting_a_Market_Analysis/three_keywords.csv')\n",
        "three_keywords_melt = pd.melt(three_keywords,\n",
        "                              id_vars=['month'],\n",
        "                              value_vars=['home_workout_worldwide', 'gym_workout_worldwide', 'home_gym_worldwide'])\n",
        "three_keywords_melt.columns = ['month', 'keyword', 'interest']\n",
        "peak_covid = three_keywords_melt.loc[three_keywords_melt['interest'] == three_keywords_melt['interest'].max(), 'keyword'].values[0]\n",
        "current = three_keywords_melt.sort_values(by=['month', 'interest'], ascending=[False, False]).groupby('month').first()['keyword'].values[0]\n",
        "\n",
        "print(f\"Answer 2a. Most popular keyword during the covid pandemic: {peak_covid}\")\n",
        "print(f\"Answer 2b. Most popular keyword now: {current}\")\n",
        "\n",
        "# Highest interest for workout among: United States, Australia, Japan\n",
        "workout_geo = pd.read_csv('/content/drive/MyDrive/colab_notebooks/Data-Driven_Product_Management:_Conducting_a_Market_Analysis/workout_geo.csv')\n",
        "top_country = workout_geo.loc[workout_geo['workout_2018_2023'] == workout_geo['workout_2018_2023'].max(), 'country'].values[0]\n",
        "print(f\"Answer 3. Country with highest interest for workout: {top_country}\")\n",
        "\n",
        "# Highest interest for home workout between: Philippines and Malaysia\n",
        "three_keywords_geo = pd.read_csv('/content/drive/MyDrive/colab_notebooks/Data-Driven_Product_Management:_Conducting_a_Market_Analysis/three_keywords_geo.csv', index_col=0)\n",
        "countries_homeworkout = ['Philippines', 'Malaysia']\n",
        "home_workout_geo_list = three_keywords_geo.loc[countries_homeworkout, ['home_workout_2018_2023']].sort_values(by='home_workout_2018_2023', ascending=False)\n",
        "home_workout_geo = home_workout_geo_list.index[0]\n",
        "print(f\"Answer 4. Country with highest interest for home workout: {home_workout_geo}\")"
      ]
    }
  ]
}